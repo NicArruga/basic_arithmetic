{
 "cells": [
  {
   "cell_type": "code",
   "execution_count": 5,
   "metadata": {},
   "outputs": [
    {
     "name": "stdout",
     "output_type": "stream",
     "text": [
      "True\n"
     ]
    }
   ],
   "source": [
    "x=(5-2/4*3/5==4.7)\n",
    "print(x)"
   ]
  },
  {
   "cell_type": "code",
   "execution_count": 7,
   "metadata": {},
   "outputs": [
    {
     "data": {
      "text/plain": [
       "4.7"
      ]
     },
     "execution_count": 7,
     "metadata": {},
     "output_type": "execute_result"
    }
   ],
   "source": [
    "5 - (2/4*3/5)"
   ]
  },
  {
   "cell_type": "code",
   "execution_count": 9,
   "metadata": {},
   "outputs": [
    {
     "data": {
      "text/plain": [
       "-0.030303030303030304"
      ]
     },
     "execution_count": 9,
     "metadata": {},
     "output_type": "execute_result"
    }
   ],
   "source": [
    "(4-5)/(3+5*6)"
   ]
  },
  {
   "cell_type": "code",
   "execution_count": 29,
   "metadata": {},
   "outputs": [
    {
     "name": "stdout",
     "output_type": "stream",
     "text": [
      "42\n",
      "0.0\n"
     ]
    }
   ],
   "source": [
    "x=7\n",
    "y=-2\n",
    "z=5\n",
    "\n",
    "print(3*x*(4+y))\n",
    "print(-y-(x+3)/z)"
   ]
  },
  {
   "cell_type": "code",
   "execution_count": 37,
   "metadata": {},
   "outputs": [
    {
     "name": "stdout",
     "output_type": "stream",
     "text": [
      "4+5=9\n"
     ]
    }
   ],
   "source": [
    "x=4\n",
    "y=5\n",
    "\n",
    "print(str(x) + '+' + str(y) + '='+ str(x+y))\n"
   ]
  },
  {
   "cell_type": "code",
   "execution_count": 85,
   "metadata": {},
   "outputs": [
    {
     "data": {
      "text/latex": [
       "$\\displaystyle 3x(4+y)= 42$"
      ],
      "text/plain": [
       "<IPython.core.display.Math object>"
      ]
     },
     "metadata": {},
     "output_type": "display_data"
    },
    {
     "data": {
      "text/latex": [
       "$\\displaystyle 3\\times7(4-2)=42$"
      ],
      "text/plain": [
       "<IPython.core.display.Math object>"
      ]
     },
     "metadata": {},
     "output_type": "display_data"
    }
   ],
   "source": [
    "from IPython.display import display, Math\n",
    "\n",
    "x=7\n",
    "y=-2\n",
    "z=5\n",
    "\n",
    "ans=3*x*(4+y)\n",
    "display(Math('3x(4+y)= %g' %(ans)  ))\n",
    "display(Math('3\\\\times%g(4%g)=%g'%(x,y,ans)))\n",
    "\n",
    "\n",
    "\n",
    "\n"
   ]
  },
  {
   "cell_type": "code",
   "execution_count": 92,
   "metadata": {},
   "outputs": [
    {
     "data": {
      "text/latex": [
       "$\\displaystyle -y-\\frac{x+3}{z}= 0$"
      ],
      "text/plain": [
       "<IPython.core.display.Math object>"
      ]
     },
     "metadata": {},
     "output_type": "display_data"
    },
    {
     "data": {
      "text/latex": [
       "$\\displaystyle --2-\\frac{7+3}{5}= 0$"
      ],
      "text/plain": [
       "<IPython.core.display.Math object>"
      ]
     },
     "metadata": {},
     "output_type": "display_data"
    }
   ],
   "source": [
    "\n",
    "dis=-y-(x+3)/z\n",
    "display(Math('-y-\\\\frac{x+3}{z}= %g' %(dis)))\n",
    "display(Math('-%g-\\\\frac{%g+3}{%g}= %g'%(y,x,z,dis)))"
   ]
  },
  {
   "cell_type": "code",
   "execution_count": 123,
   "metadata": {},
   "outputs": [
    {
     "data": {
      "text/latex": [
       "$\\displaystyle x^{3/4}\\times 4^y=3933.09$"
      ],
      "text/plain": [
       "<IPython.core.display.Math object>"
      ]
     },
     "metadata": {},
     "output_type": "display_data"
    }
   ],
   "source": [
    "x=5\n",
    "y=5.1\n",
    "\n",
    "usb=x**(3/4)*4**y\n",
    "display(Math('x^{3/4}\\\\times 4^y=%g'%(usb)))\n"
   ]
  },
  {
   "cell_type": "code",
   "execution_count": 127,
   "metadata": {},
   "outputs": [
    {
     "data": {
      "text/latex": [
       "$\\displaystyle \\frac{3^3}{x^y}=0.00735558$"
      ],
      "text/plain": [
       "<IPython.core.display.Math object>"
      ]
     },
     "metadata": {},
     "output_type": "display_data"
    }
   ],
   "source": [
    "hur=(3**3)/(x**y)\n",
    "\n",
    "display(Math('\\\\frac{3^3}{x^y}=%g'%(hur)))"
   ]
  },
  {
   "cell_type": "code",
   "execution_count": 130,
   "metadata": {},
   "outputs": [
    {
     "data": {
      "text/latex": [
       "$\\displaystyle 10^{x-4}=10$"
      ],
      "text/plain": [
       "<IPython.core.display.Math object>"
      ]
     },
     "metadata": {},
     "output_type": "display_data"
    }
   ],
   "source": [
    "git=10**(x-4)\n",
    "\n",
    "display(Math('10^{x-4}=%g'%(git)))"
   ]
  },
  {
   "cell_type": "code",
   "execution_count": 139,
   "metadata": {
    "scrolled": true
   },
   "outputs": [
    {
     "name": "stdout",
     "output_type": "stream",
     "text": [
      "3 to the power of 0 is 1\n",
      "3 to the power of 1 is 3\n",
      "3 to the power of 2 is 9\n",
      "3 to the power of 3 is 27\n",
      "3 to the power of 4 is 81\n",
      "3 to the power of 5 is 243\n",
      "3 to the power of 6 is 729\n",
      "3 to the power of 7 is 2187\n",
      "3 to the power of 8 is 6561\n",
      "3 to the power of 9 is 19683\n"
     ]
    }
   ],
   "source": [
    "base=3\n",
    "for i in range(0,10):\n",
    "    print('%g to the power of %g is %g'% (base,i,base**i))\n",
    "    "
   ]
  },
  {
   "cell_type": "code",
   "execution_count": 158,
   "metadata": {},
   "outputs": [
    {
     "data": {
      "text/latex": [
       "$\\displaystyle \\frac{4\\times5}{(7+3)}=2$"
      ],
      "text/plain": [
       "<IPython.core.display.Math object>"
      ]
     },
     "metadata": {},
     "output_type": "display_data"
    },
    {
     "name": "stdout",
     "output_type": "stream",
     "text": [
      "0.0\n"
     ]
    }
   ],
   "source": [
    "dux=(4*5)/(7+3)\n",
    "display(Math('\\\\frac{4\\\\times5}{(7+3)}=%g'%(dux)))\n",
    "print(9/(3+6)-1)"
   ]
  },
  {
   "cell_type": "code",
   "execution_count": 10,
   "metadata": {},
   "outputs": [
    {
     "name": "stdout",
     "output_type": "stream",
     "text": [
      "False\n",
      "True\n"
     ]
    }
   ],
   "source": [
    "x=2 #true, true\n",
    "#x=3 #false,true\n",
    "#x=4 #false,true\n",
    "\n",
    "\n",
    "btz= 4*x+3<17-x**2\n",
    "dub= 8*x-2<=-3*x+42\n",
    "\n",
    "print(btz)\n",
    "print(dub)"
   ]
  },
  {
   "cell_type": "code",
   "execution_count": 16,
   "metadata": {},
   "outputs": [
    {
     "data": {
      "text/latex": [
       "$\\displaystyle 1^{-1} = 1$"
      ],
      "text/plain": [
       "<IPython.core.display.Math object>"
      ]
     },
     "metadata": {},
     "output_type": "display_data"
    },
    {
     "data": {
      "text/latex": [
       "$\\displaystyle 1^{-2} = 1$"
      ],
      "text/plain": [
       "<IPython.core.display.Math object>"
      ]
     },
     "metadata": {},
     "output_type": "display_data"
    },
    {
     "data": {
      "text/latex": [
       "$\\displaystyle 1^{-3} = 1$"
      ],
      "text/plain": [
       "<IPython.core.display.Math object>"
      ]
     },
     "metadata": {},
     "output_type": "display_data"
    },
    {
     "data": {
      "text/latex": [
       "$\\displaystyle 1^{-4} = 1$"
      ],
      "text/plain": [
       "<IPython.core.display.Math object>"
      ]
     },
     "metadata": {},
     "output_type": "display_data"
    },
    {
     "data": {
      "text/latex": [
       "$\\displaystyle 2^{-1} = 0.5$"
      ],
      "text/plain": [
       "<IPython.core.display.Math object>"
      ]
     },
     "metadata": {},
     "output_type": "display_data"
    },
    {
     "data": {
      "text/latex": [
       "$\\displaystyle 2^{-2} = 0.25$"
      ],
      "text/plain": [
       "<IPython.core.display.Math object>"
      ]
     },
     "metadata": {},
     "output_type": "display_data"
    },
    {
     "data": {
      "text/latex": [
       "$\\displaystyle 2^{-3} = 0.125$"
      ],
      "text/plain": [
       "<IPython.core.display.Math object>"
      ]
     },
     "metadata": {},
     "output_type": "display_data"
    },
    {
     "data": {
      "text/latex": [
       "$\\displaystyle 2^{-4} = 0.0625$"
      ],
      "text/plain": [
       "<IPython.core.display.Math object>"
      ]
     },
     "metadata": {},
     "output_type": "display_data"
    },
    {
     "data": {
      "text/latex": [
       "$\\displaystyle 3^{-1} = 0.333333$"
      ],
      "text/plain": [
       "<IPython.core.display.Math object>"
      ]
     },
     "metadata": {},
     "output_type": "display_data"
    },
    {
     "data": {
      "text/latex": [
       "$\\displaystyle 3^{-2} = 0.111111$"
      ],
      "text/plain": [
       "<IPython.core.display.Math object>"
      ]
     },
     "metadata": {},
     "output_type": "display_data"
    },
    {
     "data": {
      "text/latex": [
       "$\\displaystyle 3^{-3} = 0.037037$"
      ],
      "text/plain": [
       "<IPython.core.display.Math object>"
      ]
     },
     "metadata": {},
     "output_type": "display_data"
    },
    {
     "data": {
      "text/latex": [
       "$\\displaystyle 3^{-4} = 0.0123457$"
      ],
      "text/plain": [
       "<IPython.core.display.Math object>"
      ]
     },
     "metadata": {},
     "output_type": "display_data"
    }
   ],
   "source": [
    "from IPython.display import display, Math\n",
    "for i in range(0,4):\n",
    "    for j in range (0,5):\n",
    "        if i>0 and j>0:\n",
    "            sus=i**-j\n",
    "            display(Math('%g^{-%g} = %g'%(i,j,sus)))"
   ]
  },
  {
   "cell_type": "code",
   "execution_count": 27,
   "metadata": {},
   "outputs": [
    {
     "name": "stdout",
     "output_type": "stream",
     "text": [
      "-4 was not tested\n",
      "Absolute value of 6 is 6\n",
      "-1 was not tested\n",
      "Absolute value of 43 is 43\n",
      "Absolute value of -18 is 18\n",
      "2 was not tested\n",
      "0 was not tested\n"
     ]
    }
   ],
   "source": [
    "hexon=[-4,6,-1,43,-18,2,0]\n",
    "for i in hexon:\n",
    "    if i<-5 or i>2:\n",
    "        print('Absolute value of %g is %g'%(i, abs(i)))\n",
    "    else:\n",
    "            print('%g was not tested'%(i))\n",
    "        "
   ]
  },
  {
   "cell_type": "code",
   "execution_count": 1,
   "metadata": {},
   "outputs": [
    {
     "name": "stdout",
     "output_type": "stream",
     "text": [
      "-5 is an odd  number\n",
      "-4 is an even number\n",
      "-3 is an odd  number\n",
      "-2 is an even number\n",
      "-1 is an odd  number\n",
      " 0 is an even number\n",
      " 1 is an odd  number\n",
      " 2 is an even number\n",
      " 3 is an odd  number\n",
      " 4 is an even number\n",
      " 5 is an odd  number\n"
     ]
    }
   ],
   "source": [
    "for i in range(-5,6):\n",
    "   \n",
    "\n",
    "    firstchar=' '\n",
    "    if i<0:\n",
    "            firstchar=''\n",
    "        \n",
    "    if i%2 ==0:\n",
    "        print('%s%g is an even number'%(firstchar,i))\n",
    "    else:\n",
    "            print('%s%g is an odd  number'%((firstchar,i)))"
   ]
  },
  {
   "cell_type": "code",
   "execution_count": 8,
   "metadata": {},
   "outputs": [],
   "source": [
    "from IPython.display import display, Math\n",
    "\n",
    "def powers(x,y):\n",
    "    powers=display(Math('%g^{%g}=%g'%(x,y,x**y)))\n",
    "    \n",
    "def division(x,y):\n",
    "    division=display(Math('\\\\frac{%g}{%g}=%g'%(x,y,x/y)))\n",
    "                   \n",
    "def main_func():\n",
    "    x=float(input('Input X:'))\n",
    "    y=float(input('Input Y:'))\n",
    "    \n",
    "    display(Math('\\\\text{Press \"1\" to compute }%g^{%g}\\\\text{or \"2\" to compute}\\\\frac{%g}{%g}'%(x,y,x,y)))\n",
    "    switch=input(' ')\n",
    "    if switch=='1':\n",
    "            powers(x,y)\n",
    "    elif switch=='2':\n",
    "            division(x,y)\n",
    "    else: \n",
    "        print('Invalid selection')"
   ]
  },
  {
   "cell_type": "code",
   "execution_count": 9,
   "metadata": {
    "scrolled": false
   },
   "outputs": [
    {
     "name": "stdout",
     "output_type": "stream",
     "text": [
      "Input X:2\n",
      "Input Y:3\n"
     ]
    },
    {
     "data": {
      "text/latex": [
       "$\\displaystyle \\text{Press \"1\" to compute }2^{3}\\text{or \"2\" to compute}\\frac{2}{3}$"
      ],
      "text/plain": [
       "<IPython.core.display.Math object>"
      ]
     },
     "metadata": {},
     "output_type": "display_data"
    },
    {
     "name": "stdout",
     "output_type": "stream",
     "text": [
      " 1\n"
     ]
    },
    {
     "data": {
      "text/latex": [
       "$\\displaystyle 2^{3}=8$"
      ],
      "text/plain": [
       "<IPython.core.display.Math object>"
      ]
     },
     "metadata": {},
     "output_type": "display_data"
    }
   ],
   "source": [
    "main_func()"
   ]
  },
  {
   "cell_type": "code",
   "execution_count": null,
   "metadata": {},
   "outputs": [],
   "source": [
    "\n",
    "#GUESSING GAME:\n",
    "    \n",
    "from numpy import random\n",
    "\n",
    "def func_guess():\n",
    "\n",
    "   \n",
    "    #define random number\n",
    "    randomnumber=random.randint(1,101)\n",
    "\n",
    "        #ask for a guess\n",
    "    print(randomnumber)\n",
    "    userguess=int(input('Guess a number between 1 and 100 '))\n",
    "\n",
    "    #check wheter the number is a match\n",
    "    \n",
    "    while userguess!=randomnumber:\n",
    "        \n",
    "        if userguess>randomnumber:\n",
    "            print('Guess lower')\n",
    "        elif userguess<randomnumber:\n",
    "            print('Guess higher')\n",
    "        \n",
    "        userguess = int(input('Guess again:  '))  \n",
    "        \n",
    "        #if the guess is correct\n",
    "        \n",
    "    print('Yes! you guessed correctly!')"
   ]
  },
  {
   "cell_type": "code",
   "execution_count": null,
   "metadata": {},
   "outputs": [],
   "source": []
  },
  {
   "cell_type": "code",
   "execution_count": null,
   "metadata": {},
   "outputs": [],
   "source": []
  }
 ],
 "metadata": {
  "kernelspec": {
   "display_name": "Python 3",
   "language": "python",
   "name": "python3"
  }
 },
 "nbformat": 4,
 "nbformat_minor": 4
}
